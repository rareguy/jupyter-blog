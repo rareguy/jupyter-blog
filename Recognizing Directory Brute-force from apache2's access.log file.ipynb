{
 "cells": [
  {
   "cell_type": "markdown",
   "id": "aboriginal-newfoundland",
   "metadata": {},
   "source": [
    "# Recognizing Directory Brute-force from apache2's access.log file\n",
    "\n",
    "Hello, there. Today we will be taking a look at Directory Brute-force in apache2.\n",
    "\n",
    "In directory brute-force, the most common method is to directly try a dictionary of common directory and see the server response. If the server returns 404, it means that it doesn't exist. Otherwise it exists but on several condition, such as unauthorized.\n",
    "\n",
    "I used my previous competition, KKST Qualifiers, log analysis file as the log example."
   ]
  },
  {
   "cell_type": "code",
   "execution_count": 30,
   "id": "bright-venue",
   "metadata": {},
   "outputs": [],
   "source": [
    "import re\n",
    "import pandas as pd\n",
    "from datetime import datetime\n",
    "import pytz"
   ]
  },
  {
   "cell_type": "code",
   "execution_count": 31,
   "id": "sustained-dress",
   "metadata": {},
   "outputs": [],
   "source": [
    "def parse_str(x):\n",
    "    \"\"\"\n",
    "    Returns the string delimited by two characters.\n",
    "\n",
    "    Example:\n",
    "        `>>> parse_str('[my string]')`\n",
    "        `'my string'`\n",
    "    \"\"\"\n",
    "    return x[1:-1]\n",
    "\n",
    "def parse_datetime(x):\n",
    "    '''\n",
    "    Parses datetime with timezone formatted as:\n",
    "        `[day/month/year:hour:minute:second zone]`\n",
    "\n",
    "    Example:\n",
    "        `>>> parse_datetime('13/Nov/2015:11:45:42 +0000')`\n",
    "        `datetime.datetime(2015, 11, 3, 11, 45, 4, tzinfo=<UTC>)`\n",
    "\n",
    "    Due to problems parsing the timezone (`%z`) with `datetime.strptime`, the\n",
    "    timezone will be obtained using the `pytz` library.\n",
    "    '''\n",
    "    dt = datetime.strptime(x[1:-7], '%d/%b/%Y:%H:%M:%S')\n",
    "    dt_tz = int(x[-6:-3])*60+int(x[-3:-1])\n",
    "    return dt.replace(tzinfo=pytz.FixedOffset(dt_tz))"
   ]
  },
  {
   "cell_type": "markdown",
   "id": "latin-carter",
   "metadata": {},
   "source": [
    "The function above is used for cleaning unusual string format such as time and string with closed brackets."
   ]
  },
  {
   "cell_type": "code",
   "execution_count": 32,
   "id": "contained-interview",
   "metadata": {},
   "outputs": [],
   "source": [
    "data = pd.read_csv(\n",
    "    'access.log',\n",
    "    sep=r'\\s(?=(?:[^\"]*\"[^\"]*\")*[^\"]*$)(?![^\\[]*\\])',\n",
    "    engine='python',\n",
    "    na_values='-',\n",
    "    header=None,\n",
    "    usecols=[0, 3, 4, 5, 6, 7, 8],\n",
    "    names=['ip', 'time', 'request', 'status', 'size', 'referer', 'user_agent'],\n",
    "    converters={'time': parse_datetime,\n",
    "                'request': parse_str,\n",
    "                'status': int,\n",
    "                'size': int,\n",
    "                'referer': parse_str,\n",
    "                'user_agent': parse_str})"
   ]
  },
  {
   "cell_type": "code",
   "execution_count": 33,
   "id": "indonesian-vessel",
   "metadata": {},
   "outputs": [
    {
     "data": {
      "text/html": [
       "<div>\n",
       "<style scoped>\n",
       "    .dataframe tbody tr th:only-of-type {\n",
       "        vertical-align: middle;\n",
       "    }\n",
       "\n",
       "    .dataframe tbody tr th {\n",
       "        vertical-align: top;\n",
       "    }\n",
       "\n",
       "    .dataframe thead th {\n",
       "        text-align: right;\n",
       "    }\n",
       "</style>\n",
       "<table border=\"1\" class=\"dataframe\">\n",
       "  <thead>\n",
       "    <tr style=\"text-align: right;\">\n",
       "      <th></th>\n",
       "      <th>ip</th>\n",
       "      <th>time</th>\n",
       "      <th>request</th>\n",
       "      <th>status</th>\n",
       "      <th>size</th>\n",
       "      <th>referer</th>\n",
       "      <th>user_agent</th>\n",
       "    </tr>\n",
       "  </thead>\n",
       "  <tbody>\n",
       "    <tr>\n",
       "      <th>0</th>\n",
       "      <td>192.168.77.87</td>\n",
       "      <td>2020-11-09 04:07:00+00:00</td>\n",
       "      <td>GET / HTTP/1.1</td>\n",
       "      <td>200</td>\n",
       "      <td>3477</td>\n",
       "      <td>NaN</td>\n",
       "      <td>Mozilla/5.0 (Windows NT 10.0; Win64; x64) Appl...</td>\n",
       "    </tr>\n",
       "    <tr>\n",
       "      <th>1</th>\n",
       "      <td>192.168.77.87</td>\n",
       "      <td>2020-11-09 04:07:00+00:00</td>\n",
       "      <td>GET /robots.txt HTTP/1.1</td>\n",
       "      <td>404</td>\n",
       "      <td>492</td>\n",
       "      <td>NaN</td>\n",
       "      <td>Mozilla/5.0 (Windows NT 10.0; Win64; x64) Appl...</td>\n",
       "    </tr>\n",
       "    <tr>\n",
       "      <th>2</th>\n",
       "      <td>192.168.77.87</td>\n",
       "      <td>2020-11-09 04:07:00+00:00</td>\n",
       "      <td>GET /icons/ubuntu-logo.png HTTP/1.1</td>\n",
       "      <td>200</td>\n",
       "      <td>3623</td>\n",
       "      <td>http://192.168.77.38/</td>\n",
       "      <td>Mozilla/5.0 (Windows NT 10.0; Win64; x64) Appl...</td>\n",
       "    </tr>\n",
       "    <tr>\n",
       "      <th>3</th>\n",
       "      <td>192.168.77.87</td>\n",
       "      <td>2020-11-09 04:07:00+00:00</td>\n",
       "      <td>GET /favicon.ico HTTP/1.1</td>\n",
       "      <td>404</td>\n",
       "      <td>491</td>\n",
       "      <td>http://192.168.77.38/</td>\n",
       "      <td>Mozilla/5.0 (Windows NT 10.0; Win64; x64) Appl...</td>\n",
       "    </tr>\n",
       "    <tr>\n",
       "      <th>4</th>\n",
       "      <td>192.168.77.87</td>\n",
       "      <td>2020-11-09 04:59:01+00:00</td>\n",
       "      <td>GET / HTTP/1.1</td>\n",
       "      <td>200</td>\n",
       "      <td>2361</td>\n",
       "      <td>NaN</td>\n",
       "      <td>Mozilla/5.0 (Windows NT 10.0; Win64; x64) Appl...</td>\n",
       "    </tr>\n",
       "  </tbody>\n",
       "</table>\n",
       "</div>"
      ],
      "text/plain": [
       "              ip                      time  \\\n",
       "0  192.168.77.87 2020-11-09 04:07:00+00:00   \n",
       "1  192.168.77.87 2020-11-09 04:07:00+00:00   \n",
       "2  192.168.77.87 2020-11-09 04:07:00+00:00   \n",
       "3  192.168.77.87 2020-11-09 04:07:00+00:00   \n",
       "4  192.168.77.87 2020-11-09 04:59:01+00:00   \n",
       "\n",
       "                               request  status  size                referer  \\\n",
       "0                       GET / HTTP/1.1     200  3477                    NaN   \n",
       "1             GET /robots.txt HTTP/1.1     404   492                    NaN   \n",
       "2  GET /icons/ubuntu-logo.png HTTP/1.1     200  3623  http://192.168.77.38/   \n",
       "3            GET /favicon.ico HTTP/1.1     404   491  http://192.168.77.38/   \n",
       "4                       GET / HTTP/1.1     200  2361                    NaN   \n",
       "\n",
       "                                          user_agent  \n",
       "0  Mozilla/5.0 (Windows NT 10.0; Win64; x64) Appl...  \n",
       "1  Mozilla/5.0 (Windows NT 10.0; Win64; x64) Appl...  \n",
       "2  Mozilla/5.0 (Windows NT 10.0; Win64; x64) Appl...  \n",
       "3  Mozilla/5.0 (Windows NT 10.0; Win64; x64) Appl...  \n",
       "4  Mozilla/5.0 (Windows NT 10.0; Win64; x64) Appl...  "
      ]
     },
     "execution_count": 33,
     "metadata": {},
     "output_type": "execute_result"
    }
   ],
   "source": [
    "data.head()"
   ]
  },
  {
   "cell_type": "markdown",
   "id": "acting-generic",
   "metadata": {},
   "source": [
    "Now that we have the data ready to digest, we can proceed to check whether the log shows an indication of directory brute force or not. We will use `pandas` to digest and count the requests."
   ]
  },
  {
   "cell_type": "code",
   "execution_count": 34,
   "id": "brave-advocacy",
   "metadata": {},
   "outputs": [
    {
     "name": "stdout",
     "output_type": "stream",
     "text": [
      "Total digested requests: 19060\n",
      "Requests with 200 status: 101 (0.5299 %)\n",
      "Requests with 404 status: 18830 (98.7933 %)\n",
      "Requests with 304 status: 1 (0.0052 %)\n",
      "Requests with 500 status: 14 (0.0735 %)\n",
      "Requests with 403 status: 108 (0.5666 %)\n",
      "Requests with 301 status: 6 (0.0315 %)\n"
     ]
    }
   ],
   "source": [
    "print(\"Total digested requests:\", data.shape[0])\n",
    "for status in data.status.unique():\n",
    "    statusobj = data.apply(lambda x: True if x['status'] == status else False, axis=1)\n",
    "    numofstatus = len(statusobj[statusobj == True].index)\n",
    "    print(\"Requests with\", str(status), \"status:\", str(numofstatus), \"(\"+\"{:.4f}\".format(numofstatus/data.shape[0]*100), \"%)\")"
   ]
  },
  {
   "cell_type": "markdown",
   "id": "valid-decrease",
   "metadata": {},
   "source": [
    "In this example, you can see that in a directory brute-force attack, you will expect a lot of 404 response from the server and noticed the sudden high load of the server. Common users won't get 404 responses that often. If this was detected, it is recommended to check the logs for confirmation of the directory brute-force. Sometimes, this can be a false positive but it's rare unless there are something done in the server that resulted in many 404s e.g. committing untested code to production server.\n",
    "\n",
    "Usually directory brute-forcing is done alphabetically because of dictionary, so if there is a sudden spike of 404s and when checked it's from the same IP and the requests are alphabetically ordered, you can flag this as an incident. "
   ]
  },
  {
   "cell_type": "code",
   "execution_count": null,
   "id": "approved-causing",
   "metadata": {},
   "outputs": [],
   "source": []
  }
 ],
 "metadata": {
  "kernelspec": {
   "display_name": "Python 3",
   "language": "python",
   "name": "python3"
  },
  "language_info": {
   "codemirror_mode": {
    "name": "ipython",
    "version": 3
   },
   "file_extension": ".py",
   "mimetype": "text/x-python",
   "name": "python",
   "nbconvert_exporter": "python",
   "pygments_lexer": "ipython3",
   "version": "3.6.9"
  }
 },
 "nbformat": 4,
 "nbformat_minor": 5
}
